{
 "cells": [
  {
   "cell_type": "markdown",
   "metadata": {},
   "source": [
    "# Part B\n",
    "## Build the network of Country Performers\n",
    "\n",
    "#### Use a regular expression to extract all outgoing links from each of the pages you downloaded above.\n",
    "\n",
    "- Start by making a single page work. Do some debugging to make sure it's actually working.\n",
    "- Then slowly build the loops over performers/pages to take your little operation to industrial scale\n",
    "- You don't have to be perfect. There will be tricky edge-cases, you don't have to solve all of those. The key is to get a pretty good network to work with, not to make everything perfect.\n",
    "\n"
   ]
  },
  {
   "cell_type": "code",
   "execution_count": 7,
   "metadata": {},
   "outputs": [
    {
     "name": "stdout",
     "output_type": "stream",
     "text": [
      "Outgoing links in performer_files/Blake_Shelton_plain.txt:\n"
     ]
    }
   ],
   "source": [
    "import re\n",
    "\n",
    "# Specify the file you want to process\n",
    "filename = 'performer_files/Blake_Shelton_plain.txt'  # Replace with the actual filename\n",
    "\n",
    "with open(filename, 'r', encoding='utf-8') as file:\n",
    "    text = file.read()\n",
    "\n",
    "# Regular expression pattern to match wiki links\n",
    "pattern = r'\\[\\[([^\\]|]+)(?:\\|([^\\]]+))?\\]\\]'\n",
    "\n",
    "# Find all matches in the text\n",
    "links = re.findall(pattern, text)\n",
    "\n",
    "# Remove duplicates by converting the list to a set\n",
    "unique_links = set(links)\n",
    "\n",
    "print(f\"Outgoing links in {filename}:\")\n",
    "for link in unique_links:\n",
    "    print(link)\n"
   ]
  }
 ],
 "metadata": {
  "kernelspec": {
   "display_name": "venv",
   "language": "python",
   "name": "python3"
  },
  "language_info": {
   "codemirror_mode": {
    "name": "ipython",
    "version": 3
   },
   "file_extension": ".py",
   "mimetype": "text/x-python",
   "name": "python",
   "nbconvert_exporter": "python",
   "pygments_lexer": "ipython3",
   "version": "3.12.2"
  }
 },
 "nbformat": 4,
 "nbformat_minor": 2
}
