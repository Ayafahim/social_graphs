{
 "cells": [
  {
   "cell_type": "markdown",
   "metadata": {},
   "source": [
    "#  Part 1: Small World Networks\n",
    "\n",
    "## Reading Exercises\n",
    "\n",
    "### What's the problem with random networks as a model for real-world networks according to the argument in section 3.5 (near the end)?\n",
    "According to the book in section 3.5, random networks lack hubs. If people are randomly connected to eatch other, we'd be lacking outliers. There won't be any highly popular individuals, which doesn't fit with reality. There is extensive evidence that some individuals can be highly popular i.e. US president Franklin D. Roosevelt. \n",
    "\n",
    "### List the four regimes that characterize random networks as a function of $\\langle k \\rangle$.\n",
    "\n",
    "\n",
    "### According to the book, why is it a problem for random networks (in terms of being a model for real-world networks) that the degree-dependent clustering C(k) decreases as a function of k in real-world networks?"
   ]
  }
 ],
 "metadata": {
  "language_info": {
   "name": "python"
  }
 },
 "nbformat": 4,
 "nbformat_minor": 2
}
