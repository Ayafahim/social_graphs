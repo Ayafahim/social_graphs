{
 "cells": [
  {
   "cell_type": "markdown",
   "metadata": {},
   "source": [
    "# Part A: Let's visualise some more!\n",
    "\n",
    "## Exercise 1: Plot the Network using ForceAtlas2. For visualization, you should work with the network from last time, the Giant Connected Component ... and the undirected version.\n",
    "\n",
    "###"
   ]
  },
  {
   "cell_type": "code",
   "execution_count": 4,
   "metadata": {},
   "outputs": [
    {
     "name": "stdout",
     "output_type": "stream",
     "text": [
      "Graph loaded from: /Users/aya/Desktop/Skole/social_graps/Aya/shared/performer_network.pkl\n",
      "Number of nodes: 1939\n",
      "Number of edges: 17578\n"
     ]
    }
   ],
   "source": [
    "import os\n",
    "import pickle\n",
    "\n",
    "# Define the relative folder path where the pickle file is saved\n",
    "folder_path = \"/Users/aya/Desktop/Skole/social_graps/Aya/shared\"\n",
    "\n",
    "# Define the full path including the file name\n",
    "file_path = os.path.join(folder_path, 'performer_network.pkl')\n",
    "\n",
    "# Load the graph from the specified file path\n",
    "with open(file_path, 'rb') as f:\n",
    "    G = pickle.load(f)\n",
    "\n",
    "print(f\"Number of nodes: {G.number_of_nodes()}\")\n",
    "print(f\"Number of edges: {G.number_of_edges()}\")\n"
   ]
  }
 ],
 "metadata": {
  "kernelspec": {
   "display_name": "venv",
   "language": "python",
   "name": "python3"
  },
  "language_info": {
   "codemirror_mode": {
    "name": "ipython",
    "version": 3
   },
   "file_extension": ".py",
   "mimetype": "text/x-python",
   "name": "python",
   "nbconvert_exporter": "python",
   "pygments_lexer": "ipython3",
   "version": "3.12.2"
  }
 },
 "nbformat": 4,
 "nbformat_minor": 2
}
