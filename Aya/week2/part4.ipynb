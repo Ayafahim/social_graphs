{
 "cells": [
  {
   "cell_type": "markdown",
   "metadata": {},
   "source": [
    "# Part 4 \n",
    "## 3.11 Homework\n",
    "### Erdős-Rényi Networks\n",
    "\n",
    "Consider an Erdős-Rényi network with N = 3,000 nodes, connected to each other with probability $p = 10^{–3}$.\n",
    "#### What is the expected number of links, $\\langle L \\rangle$?\n",
    "\n",
    "Remember the formula (Box 3.11 in book): $$ \\langle L \\rangle = \\frac{pN \\cdot (N-1)}{2}$$ \n",
    "So if $N = 3000$ and $p = 10^{–3}$, we can then calculate the expected number of links as:\n"
   ]
  },
  {
   "cell_type": "code",
   "execution_count": 3,
   "metadata": {},
   "outputs": [
    {
     "name": "stdout",
     "output_type": "stream",
     "text": [
      "4498.5\n"
     ]
    }
   ],
   "source": [
    "N = 3000\n",
    "p = 10**-3\n",
    "\n",
    "L = (N * (N - 1) / 2) * p\n",
    "print(L)"
   ]
  },
  {
   "cell_type": "markdown",
   "metadata": {},
   "source": [
    "So the expected number of links is:\n",
    " $$\n",
    " \\langle L \\rangle = \\frac{10^{-3} \\cdot 3000 \\cdot (3000-1)}{2} = 4498.5\n",
    " $$ "
   ]
  },
  {
   "cell_type": "markdown",
   "metadata": {},
   "source": [
    "#### In which regime is the network?\n",
    "\n",
    "According to chapter 3.6 there are 4 distinct regimes:\n",
    "\n",
    "Subcritical Regime: where $0 < \\langle k \\rangle < 1$\n",
    "   \n",
    "    - In this regime, most nodes are in small, isolated components, and the network consists mainly of disconnected subgraphs with no giant component.\n",
    "\n",
    "Critical Point: where $ \\langle k \\rangle = 1 $\n",
    "     \n",
    "     - At this point, a giant component just starts to emerge, and the network undergoes a phase transition where a single large connected component appears, but the network is still mostly fragmented.\n",
    "\n",
    "Supercritical Regime: where $ \\langle k \\rangle > 1$\n",
    "    \n",
    "    - In this regime, a giant component exists, and the majority of nodes are connected within it, but the network is not fully connected. Some small components may still be present.\n",
    "\n",
    "Connected Regime: where $ \\langle k \\rangle > ln(N)$\n",
    "    \n",
    "    - In this regime, almost all nodes belong to a single giant component, and the network is fully connected with high probability. The network contains few if any isolated nodes or disconnected components.\n",
    "\n",
    "So to find out what regime the network is in, we need to calculate $\\langle k \\rangle$:\n",
    "\n",
    "$$\n",
    "\\langle k \\rangle = p(N-1)\n",
    "$$"
   ]
  },
  {
   "cell_type": "code",
   "execution_count": 4,
   "metadata": {},
   "outputs": [
    {
     "name": "stdout",
     "output_type": "stream",
     "text": [
      "2.999\n"
     ]
    }
   ],
   "source": [
    "k = p * (N - 1)\n",
    "print(k)"
   ]
  },
  {
   "cell_type": "markdown",
   "metadata": {},
   "source": [
    "$$\n",
    "\\langle k \\rangle = 10^{-3}(3000-1) = 2.999\n",
    "$$\n",
    "\n",
    "Since $\\langle k \\rangle = 2.999$ the network must be in the supercritical regimes since $2.999 > 1$. It cannot be in subcritical or critical point, nor in connected regime since $ln(3000) = 8,0063675677$\n",
    "\n",
    "This means a giant component does exist and most nodes are connected within but the network isn't fully connected."
   ]
  },
  {
   "cell_type": "markdown",
   "metadata": {},
   "source": [
    "#### Calculate the probability $p_c$ so that the network is at the critical point.\n",
    "\n",
    "The critical point occurs when $\\langle k \\rangle = 1$, So we will use the same formula to calculate $\\langle k \\rangle$ as above but solve for $p_c$:\n",
    "\n",
    "$$\n",
    "p_c(N-1) = 1 <=> p_c = \\frac{1}{N-1}\n",
    "$$\n",
    "\n",
    "for $N = 3000$:"
   ]
  },
  {
   "cell_type": "code",
   "execution_count": 5,
   "metadata": {},
   "outputs": [
    {
     "name": "stdout",
     "output_type": "stream",
     "text": [
      "0.00033344448149383126\n"
     ]
    }
   ],
   "source": [
    "p_c = 1 / (N - 1)\n",
    "print(p_c)"
   ]
  },
  {
   "cell_type": "markdown",
   "metadata": {},
   "source": [
    "$$\n",
    "p_c = \\frac{1}{3000-1} \\approx 0.000333\n",
    "$$\n",
    "\n",
    "So when $p_c \\approx 0.000333$ then the network is at the critical point."
   ]
  },
  {
   "cell_type": "markdown",
   "metadata": {},
   "source": [
    "####  Given the linking probability $p = 10^{–3}, calculate the number of nodes $N^{cr} so that the network has only one component.\n",
    "\n",
    "If the network only should have one component, then it should be a fully connected network i.e. a connected regime - where $ \\langle k \\rangle > ln(N)$\n",
    "\n",
    "Again we'll use the same formula:\n",
    "$$\n",
    "\\langle k \\rangle = p(N-1)\n",
    "$$\n",
    "\n",
    "We want to find the "
   ]
  },
  {
   "cell_type": "markdown",
   "metadata": {},
   "source": []
  }
 ],
 "metadata": {
  "kernelspec": {
   "display_name": "venv",
   "language": "python",
   "name": "python3"
  },
  "language_info": {
   "codemirror_mode": {
    "name": "ipython",
    "version": 3
   },
   "file_extension": ".py",
   "mimetype": "text/x-python",
   "name": "python",
   "nbconvert_exporter": "python",
   "pygments_lexer": "ipython3",
   "version": "3.12.2"
  }
 },
 "nbformat": 4,
 "nbformat_minor": 2
}
