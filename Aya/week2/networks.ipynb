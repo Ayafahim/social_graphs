{
 "cells": [
  {
   "cell_type": "markdown",
   "metadata": {},
   "source": [
    "# Part 1\n",
    "### Section 2.5 states that real networks are sparse. Can you think of a real network where each node has many connections? Is that network still sparse? If yes, can you explain why?\n",
    "\n",
    "A school teacher network, representing connections between teachers based on shared classes or subjects, might seem dense at first glance because teachers have multiple connections (for instance, to different students or other teachers). However, in reality, such a network is still likely to be sparse. This is because each teacher is not connected to every other teacher in the network — rather, they are only connected to those who share subjects or students. The total number of possible connections in the school is large, and even with many connections, the network remains sparse because the actual number of connections between teachers is small compared to the potential number of connections."
   ]
  },
  {
   "cell_type": "markdown",
   "metadata": {},
   "source": [
    "# Part 2\n",
    "## Homework section 2.12\n",
    "### Königsberg Problem "
   ]
  },
  {
   "cell_type": "markdown",
   "metadata": {},
   "source": [
    "#### The vector k whose elements are the degrees ki of all nodes i = 1, 2,..., N.\n"
   ]
  },
  {
   "cell_type": "code",
   "execution_count": 34,
   "metadata": {},
   "outputs": [
    {
     "name": "stdout",
     "output_type": "stream",
     "text": [
      "[[2.]\n",
      " [3.]\n",
      " [2.]\n",
      " [3.]]\n"
     ]
    }
   ],
   "source": [
    "import numpy as np\n",
    "\n",
    "# NxN adjacency matrix A for figure a. The vector k whose elements are the degrees k_i of all nodes i = 1, 2,..., N.\n",
    "A = np.array([[0, 1, 0, 1],\n",
    "              [1, 0, 1, 1],\n",
    "              [0, 1, 0, 1],\n",
    "              [1, 1, 1, 0]])\n",
    "\n",
    "\n",
    "# V1 is a vector of ones where the number of rows is equal to the number of rows in A\n",
    "V1 = np.ones((A.shape[0], 1))\n",
    "\n",
    "# k is the degree of each node \n",
    "k = np.dot(A, V1)\n",
    "print(k)\n"
   ]
  },
  {
   "cell_type": "markdown",
   "metadata": {},
   "source": [
    "#### The total number of links, L, in the network:\n",
    "The total amount of link is L = 1/2 * sum(all entries of A) so;\n",
    "\n",
    "Sum of entries of A = 2 + 3 + 2 + 3 = 10\n",
    "\n",
    "L = 1/2 * 10 = 5\n",
    "\n",
    "#### The number of triangles T present in the network, where a triangle means three nodes, each connected by links to the other two:\n",
    "\n",
    "Given the adjacency matrix 𝐴 which tells us whether there is an edge between two nodes (1 if connected, 0 if not),  $𝐴^3$ is the matrix you get when you multiply the adjacency matrix by itself three times. \n",
    "Each element represents the number of different ways you can travel from node i to node j by following exactly three edges (a walk of length 3). A triangle is a closed loop involving three nodes. If a set of three nodes forms a triangle, then you can start at any of those nodes, visit the other two, and return to your starting point in exactly three steps. When you compute the cube of the adjacency matrix $A^3$, the diagonal elements tell us how many ways you can make a closed walk of length 3 starting and ending at node 𝑖. For a triangle, this means that each diagonal element counts how many triangles the node is part of. The trace of a matrix Tr($𝐴^3$) is the sum of all the diagonal elements of $A^3$. Since we count each triangle six times (once for each possible way of walking around the triangle), we need to divide by 6 to avoid overcounting. This gives the correct number of distinct triangles in the network."
   ]
  },
  {
   "cell_type": "code",
   "execution_count": 35,
   "metadata": {},
   "outputs": [
    {
     "name": "stdout",
     "output_type": "stream",
     "text": [
      "2.0\n"
     ]
    }
   ],
   "source": [
    "# Compute A^3\n",
    "A_cubed = np.linalg.matrix_power(A, 3)\n",
    "\n",
    "# Compute the trace of A^3\n",
    "trace_A_cubed = np.trace(A_cubed)\n",
    "\n",
    "# Compute the number of triangles\n",
    "T = trace_A_cubed / 6\n",
    "print(T)"
   ]
  },
  {
   "cell_type": "markdown",
   "metadata": {},
   "source": [
    "#### The vector $k_{nn}$ whose element i is the sum of the degrees of node i's neighbors:\n",
    "\n",
    "Now we want to calculate the sum of the degrees of the neighbors for each node. To calculate $k_{nn} = Ak$, we multiply the adjacency matrix 𝐴 by the degree vector k. This gives us:"
   ]
  },
  {
   "cell_type": "code",
   "execution_count": 36,
   "metadata": {},
   "outputs": [
    {
     "name": "stdout",
     "output_type": "stream",
     "text": [
      "[[6.]\n",
      " [7.]\n",
      " [6.]\n",
      " [7.]]\n"
     ]
    }
   ],
   "source": [
    "knn = np.dot(A, k)\n",
    "print(knn)"
   ]
  },
  {
   "cell_type": "markdown",
   "metadata": {},
   "source": [
    "#### Interpretation of the Result:\n",
    "- Node 1: The sum of the degrees of its neighbors is 6.\n",
    "- Node 2: The sum of the degrees of its neighbors is 7.\n",
    "- Node 3: The sum of the degrees of its neighbors is 6.\n",
    "- Node 4: The sum of the degrees of its neighbors is 7.\n",
    "\n",
    "This vector tells us the total number of connections that the neighbors of each node have.\n",
    "\n",
    "#### The vector $k_{nnn}$ whose element i is the sum of the degrees of node i's second neighbors:\n",
    "To find the second neighbors, we multiply the adjacency matrix by itself. $A^2$ contains the number of paths of length 2 between any two nodes. Each non-zero entry indicates that nodes are connected through a common neighbor.\n",
    "\n",
    "##### Sum of degrees of second neighbors:\n",
    "\n",
    "To calculate the sum of the degrees of node i's second neighbors, we multiply $A^2$ by the degree vector k:\n",
    "\n",
    "$$k_{nnn}=A^2k$$"
   ]
  },
  {
   "cell_type": "code",
   "execution_count": 37,
   "metadata": {},
   "outputs": [
    {
     "name": "stdout",
     "output_type": "stream",
     "text": [
      "[[14.]\n",
      " [19.]\n",
      " [14.]\n",
      " [19.]]\n"
     ]
    }
   ],
   "source": [
    "A_squared = np.linalg.matrix_power(A, 2)\n",
    "knnn = np.dot(A_squared, k)\n",
    "print(knnn)"
   ]
  },
  {
   "cell_type": "markdown",
   "metadata": {},
   "source": [
    "### Graph representation"
   ]
  },
  {
   "cell_type": "code",
   "execution_count": 38,
   "metadata": {},
   "outputs": [
    {
     "name": "stdout",
     "output_type": "stream",
     "text": [
      "Adjacency matrix for G:\n",
      "[[0 1 1 1 0 1]\n",
      " [1 0 1 1 0 0]\n",
      " [1 1 0 0 0 1]\n",
      " [1 1 0 0 0 0]\n",
      " [0 0 0 0 0 0]\n",
      " [1 0 1 0 0 0]]\n",
      "Node 1 has neighbors [2, 3, 4, 6]\n",
      "Node 2 has neighbors [1, 3, 4]\n",
      "Node 3 has neighbors [1, 2, 6]\n",
      "Node 4 has neighbors [1, 2]\n",
      "Node 5 has neighbors []\n",
      "Node 6 has neighbors [1, 3]\n",
      "Average clustering coefficient: 0.6388888888888888\n",
      "\n",
      "\n",
      "Adjacency matrix for DG:\n",
      "[[0 1 0 0 0 0]\n",
      " [0 0 1 1 0 0]\n",
      " [1 1 0 0 0 0]\n",
      " [1 0 0 0 0 0]\n",
      " [0 0 0 0 0 0]\n",
      " [1 0 1 0 0 0]]\n",
      "Node 1 has neighbors [2]\n",
      "Node 2 has neighbors [3, 4]\n",
      "Node 3 has neighbors [2, 1]\n",
      "Node 4 has neighbors [1]\n",
      "Node 5 has neighbors []\n",
      "Node 6 has neighbors [3, 1]\n"
     ]
    }
   ],
   "source": [
    "import numpy as np\n",
    "import matplotlib.pyplot as plt\n",
    "\n",
    "G = nx.Graph()\n",
    "G.add_nodes_from(range(1, 7))\n",
    "G.add_edges_from([(1, 2), (1, 3), (1, 4), (1, 6)])  \n",
    "G.add_edges_from([(2, 3), (2, 4), (3, 6)])  \n",
    "adj_matrix_G = nx.adjacency_matrix(G).todense()\n",
    "print(\"Adjacency matrix for G:\")\n",
    "print(np.array(adj_matrix_G))\n",
    "# Print adjacency list of each node\n",
    "for node, neighbors in G.adjacency():\n",
    "    print(f\"Node {node} has neighbors {list(neighbors)}\")\n",
    "avg_clustering_coefficient = nx.average_clustering(G)\n",
    "\n",
    "print(f\"Average clustering coefficient: {avg_clustering_coefficient}\")\n",
    "\n",
    "print('\\n')\n",
    "DG = nx.DiGraph()\n",
    "DG.add_nodes_from(range(1, 7))\n",
    "DG.add_edges_from([(1, 2), (2, 3), (3, 2), (2, 4),(3, 1),(4, 1), (6, 3), (6, 1)])\n",
    "adj_matrix_DG = nx.adjacency_matrix(DG).todense()\n",
    "print(\"Adjacency matrix for DG:\")\n",
    "print(np.array(adj_matrix_DG))\n",
    "# Print adjacency list of each node\n",
    "for node, neighbors in DG.adjacency():\n",
    "    print(f\"Node {node} has neighbors {list(neighbors)}\")\n",
    "\n",
    "#nx.draw(G, with_labels=True, node_color='lightblue', node_size=700, font_size=12, font_color='black')\n",
    "#plt.show()\n"
   ]
  },
  {
   "cell_type": "markdown",
   "metadata": {},
   "source": [
    "## Information You Can Infer from Both:\n",
    "\n",
    "1. Connections/Edges: Both representations can tell you whether two nodes are directly connected (i.e., if there is an edge between them).\n",
    "2. Degree of a Node: Both the adjacency list and adjacency matrix allow you to calculate the degree of a node, which is the number of connections a node has.\n",
    "\n",
    "## Information You Cannot Easily Infer from the Adjacency List but Can from the Adjacency Matrix:\n",
    "1. Global Structure Information:\n",
    "\n",
    "    - Transitivity and Higher-Order Connectivity: In the adjacency matrix, relationships between neighbors (such as common neighbors) are much easier to infer because matrix multiplication allows you to count paths of any length between nodes. In the adjacency list, this is harder to infer since you'd need to manually traverse neighbors.\n",
    "\n",
    "    - Triangle Counting and Clustering: The adjacency matrix makes it easier to find triangles (groups of three mutually connected nodes) and calculate the clustering coefficient by multiplying matrices. In the adjacency list, you'd have to explicitly check if the neighbors of one node are connected to each other, which is computationally more complex.\n",
    "\n",
    "2. Symmetry and Edge Weights:\n",
    "\n",
    "    - Symmetry in Undirected Graphs: In the adjacency matrix, an undirected graph will always have a symmetric matrix, which is immediately apparent. In the adjacency list, you would need to check each neighbor list manually to confirm this.\n",
    "    \n",
    "    - Edge Weights: In weighted graphs, the adjacency matrix can store the weight of each edge as a value in the matrix, making it easy to look up edge weights. In an adjacency list, you would need to modify the list   structure to store the weights with each connection.\n",
    "\n",
    "3. Efficient Queries for Edge Existence:\n",
    "\n",
    "    - Constant-Time Edge Lookup: In an adjacency matrix, you can immediately check if an edge exists between any two nodes by looking up the corresponding matrix entry in constant time O(1). In an adjacency list, you would need to search through the list of neighbors, which takes linear time O(k) (where k is the degree of the node).\n",
    "\n",
    "4. Space Complexity and Sparsity:\n",
    "\n",
    "    - Density and Sparsity: The adjacency matrix makes it easier to see if the graph is dense or sparse. For example, if most matrix entries are 0, you can tell the graph is sparse. In the adjacency list, you cannot directly infer this global property from just examining the lists.\n",
    "\n",
    "5. Spectral Properties of the Graph:\n",
    "\n",
    "    - Eigenvalues and Eigenvectors: The adjacency matrix allows for easy computation of the graph's eigenvalues and eigenvectors, which are important in spectral graph theory. These can provide information about the graph’s structure, such as connectivity and community detection. These kinds of operations are not easily performed with an adjacency list."
   ]
  },
  {
   "cell_type": "markdown",
   "metadata": {},
   "source": [
    "## In the (a) network, how many paths (with possible repetition of nodes and links) of length 3 exist starting from node 1 and ending at node 3? And (b).\n",
    "\n",
    "1. Compute $A^3$\n",
    "2. Read value at (1,3), so row 1, column 3 is the number of paths. "
   ]
  },
  {
   "cell_type": "code",
   "execution_count": 42,
   "metadata": {},
   "outputs": [
    {
     "name": "stdout",
     "output_type": "stream",
     "text": [
      "Number of paths of length 3 from node 1 to node 3 for graph a: 7\n",
      "Number of paths of length 3 from node 1 to node 3 for graph b: 0\n"
     ]
    }
   ],
   "source": [
    "A_3 = np.linalg.matrix_power(adj_matrix_G, 3)\n",
    "\n",
    "# Find the number of paths from node 1 to node 3 (REMEMBER indexing starts at 0)\n",
    "num_paths_length_3 = A_3[0, 2]\n",
    "\n",
    "print(f\"Number of paths of length 3 from node 1 to node 3 for graph a: {num_paths_length_3}\")\n",
    "\n",
    "A_3 = np.linalg.matrix_power(adj_matrix_DG, 3)\n",
    "\n",
    "num_paths_length_3 = A_3[0, 2]\n",
    "print(f\"Number of paths of length 3 from node 1 to node 3 for graph b: {num_paths_length_3}\")\n"
   ]
  },
  {
   "cell_type": "markdown",
   "metadata": {},
   "source": []
  }
 ],
 "metadata": {
  "kernelspec": {
   "display_name": "Python 3",
   "language": "python",
   "name": "python3"
  },
  "language_info": {
   "codemirror_mode": {
    "name": "ipython",
    "version": 3
   },
   "file_extension": ".py",
   "mimetype": "text/x-python",
   "name": "python",
   "nbconvert_exporter": "python",
   "pygments_lexer": "ipython3",
   "version": "3.12.2"
  }
 },
 "nbformat": 4,
 "nbformat_minor": 2
}
