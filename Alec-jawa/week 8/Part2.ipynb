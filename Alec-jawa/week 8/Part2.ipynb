{
 "cells": [
  {
   "cell_type": "markdown",
   "metadata": {},
   "source": [
    "## The concept of TF-IDF and how it can help  understand the genres and communities.\n",
    "TF-IDF is a technique used to find the most important and unique words in a set of texts. It does this in two steps:\n",
    "\n",
    "1. **Term Frequency (TF)** checks how often a word appears in each text. Words that show up a lot in one text are probably important to that text’s topic.\n",
    "\n",
    "2. **Inverse Document Frequency (IDF)** looks at how rare a word is across all texts. Words that are common everywhere (like \"the\" or \"people\") don’t tell us much, while words that are unique to one text can be more meaningful.\n",
    "\n",
    "When we combine these, **TF-IDF** scores each word by its importance within a specific text and its uniqueness across all texts. High TF-IDF scores show which words help define the topic of a text, making it easier to understand the main focus and unique characteristics of each text or category.\n"
   ]
  }
 ],
 "metadata": {
  "kernelspec": {
   "display_name": "base",
   "language": "python",
   "name": "python3"
  },
  "language_info": {
   "codemirror_mode": {
    "name": "ipython",
    "version": 3
   },
   "file_extension": ".py",
   "mimetype": "text/x-python",
   "name": "python",
   "nbconvert_exporter": "python",
   "pygments_lexer": "ipython3",
   "version": "3.11.5"
  }
 },
 "nbformat": 4,
 "nbformat_minor": 2
}
