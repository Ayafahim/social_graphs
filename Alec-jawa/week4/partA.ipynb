{
 "cells": [
  {
   "cell_type": "code",
   "execution_count": 9,
   "metadata": {},
   "outputs": [
    {
     "ename": "NameError",
     "evalue": "name 'performers' is not defined",
     "output_type": "error",
     "traceback": [
      "\u001b[0;31m---------------------------------------------------------------------------\u001b[0m",
      "\u001b[0;31mNameError\u001b[0m                                 Traceback (most recent call last)",
      "Cell \u001b[0;32mIn[9], line 12\u001b[0m\n\u001b[1;32m      9\u001b[0m \u001b[38;5;28;01mif\u001b[39;00m \u001b[38;5;129;01mnot\u001b[39;00m os\u001b[38;5;241m.\u001b[39mpath\u001b[38;5;241m.\u001b[39mexists(output_dir):\n\u001b[1;32m     10\u001b[0m     os\u001b[38;5;241m.\u001b[39mmakedirs(output_dir)\n\u001b[0;32m---> 12\u001b[0m page_titles \u001b[38;5;241m=\u001b[39m \u001b[38;5;28mlist\u001b[39m(\u001b[38;5;28mset\u001b[39m(performer[\u001b[38;5;241m0\u001b[39m] \u001b[38;5;28;01mfor\u001b[39;00m performer \u001b[38;5;129;01min\u001b[39;00m performers))\n\u001b[1;32m     13\u001b[0m page_titles \u001b[38;5;241m=\u001b[39m [title\u001b[38;5;241m.\u001b[39mstrip()\u001b[38;5;241m.\u001b[39mreplace(\u001b[38;5;124m'\u001b[39m\u001b[38;5;124m \u001b[39m\u001b[38;5;124m'\u001b[39m, \u001b[38;5;124m'\u001b[39m\u001b[38;5;124m_\u001b[39m\u001b[38;5;124m'\u001b[39m) \u001b[38;5;28;01mfor\u001b[39;00m title \u001b[38;5;129;01min\u001b[39;00m page_titles]\n\u001b[1;32m     15\u001b[0m \u001b[38;5;66;03m# Wikipedia API setup\u001b[39;00m\n",
      "\u001b[0;31mNameError\u001b[0m: name 'performers' is not defined"
     ]
    }
   ],
   "source": [
    "import os\n",
    "import re\n",
    "import requests\n",
    "from bs4 import BeautifulSoup\n",
    "from time import sleep\n",
    "\n",
    "# Ensure the directory exists\n",
    "output_dir = \"Country-performers\"\n",
    "if not os.path.exists(output_dir):\n",
    "    os.makedirs(output_dir)\n",
    "\n",
    "page_titles = list(set(performer[0] for performer in performers))\n",
    "page_titles = [title.strip().replace(' ', '_') for title in page_titles]\n",
    "\n",
    "# Wikipedia API setup\n",
    "WIKIPEDIA_API_URL = \"https://en.wikipedia.org/w/api.php\"\n",
    "headers = {\n",
    "    'User-Agent': 'YourAppName/1.0 (your_email@example.com)'\n",
    "}\n",
    "\n",
    "# Process each page individually\n",
    "for title in page_titles:\n",
    "    params = {\n",
    "        \"action\": \"parse\",\n",
    "        \"page\": title,\n",
    "        \"prop\": \"text\",\n",
    "        \"format\": \"json\"\n",
    "        # No \"redirects\": 1, to skip redirects\n",
    "    }\n",
    "\n",
    "    try:\n",
    "        response = requests.get(WIKIPEDIA_API_URL, params=params, headers=headers)\n",
    "        response.raise_for_status()\n",
    "        data = response.json()\n",
    "\n",
    "        # Check for errors in the response\n",
    "        if 'error' in data:\n",
    "            error_code = data['error'].get('code', '')\n",
    "            if error_code == 'missingtitle':\n",
    "                print(f\"Page '{title}' is missing. Skipping.\")\n",
    "                continue\n",
    "            elif error_code == 'redirects':\n",
    "                print(f\"Page '{title}' is a redirect. Skipping.\")\n",
    "                continue\n",
    "            else:\n",
    "                print(f\"An error occurred with page '{title}': {data['error'].get('info', '')}\")\n",
    "                continue\n",
    "\n",
    "        if 'parse' in data:\n",
    "            html_content = data['parse']['text']['*']\n",
    "            # Use BeautifulSoup to parse HTML content\n",
    "            soup = BeautifulSoup(html_content, 'html.parser')\n",
    "            text = soup.get_text()\n",
    "\n",
    "            # Save or process the text in the performer_files folder\n",
    "            filename = os.path.join(output_dir, f\"{title}_plain.txt\")\n",
    "            with open(filename, 'w', encoding='utf-8') as f:\n",
    "                f.write(text)\n",
    "            print(f\"Downloaded plain text for {title}\")\n",
    "        else:\n",
    "            print(f\"No content found for page '{title}'. Skipping.\")\n",
    "\n",
    "        # Respectful crawling\n",
    "        sleep(0.5)  # Sleep for half a second between requests\n",
    "    except requests.exceptions.RequestException as e:\n",
    "        print(f\"An error occurred while fetching '{title}': {e}\")\n",
    "    except Exception as e:\n",
    "        print(f\"An unexpected error occurred with '{title}': {e}\")\n"
   ]
  }
 ],
 "metadata": {
  "kernelspec": {
   "display_name": "base",
   "language": "python",
   "name": "python3"
  },
  "language_info": {
   "codemirror_mode": {
    "name": "ipython",
    "version": 3
   },
   "file_extension": ".py",
   "mimetype": "text/x-python",
   "name": "python",
   "nbconvert_exporter": "python",
   "pygments_lexer": "ipython3",
   "version": "3.11.5"
  }
 },
 "nbformat": 4,
 "nbformat_minor": 2
}
