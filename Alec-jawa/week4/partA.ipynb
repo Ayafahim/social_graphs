{
 "cells": [
  {
   "cell_type": "code",
   "execution_count": 7,
   "metadata": {},
   "outputs": [
    {
     "name": "stdout",
     "output_type": "stream",
     "text": [
      "Saving files to: /Users/alecranjitkar/Desktop/DTU/Master/1Semester/social_graphs-1/Alec-jawa/week4/Country-performers\n"
     ]
    },
    {
     "ename": "FileNotFoundError",
     "evalue": "[Errno 2] No such file or directory: '/Users/alecranjitkar/Desktop/DTU/Master/1Semester/social_graphs-1/Alec-jawa/week4/performers.txt'",
     "output_type": "error",
     "traceback": [
      "\u001b[0;31m---------------------------------------------------------------------------\u001b[0m",
      "\u001b[0;31mFileNotFoundError\u001b[0m                         Traceback (most recent call last)",
      "Cell \u001b[0;32mIn[7], line 45\u001b[0m\n\u001b[1;32m     42\u001b[0m         \u001b[38;5;28mprint\u001b[39m(\u001b[38;5;124mf\u001b[39m\u001b[38;5;124m\"\u001b[39m\u001b[38;5;124mNo content found for \u001b[39m\u001b[38;5;132;01m{\u001b[39;00mtitle\u001b[38;5;132;01m}\u001b[39;00m\u001b[38;5;124m\"\u001b[39m)\n\u001b[1;32m     44\u001b[0m \u001b[38;5;66;03m# Read performers from the text file\u001b[39;00m\n\u001b[0;32m---> 45\u001b[0m \u001b[38;5;28;01mwith\u001b[39;00m \u001b[38;5;28mopen\u001b[39m(performer_file_path, \u001b[38;5;124m'\u001b[39m\u001b[38;5;124mr\u001b[39m\u001b[38;5;124m'\u001b[39m, encoding\u001b[38;5;241m=\u001b[39m\u001b[38;5;124m'\u001b[39m\u001b[38;5;124mutf-8\u001b[39m\u001b[38;5;124m'\u001b[39m) \u001b[38;5;28;01mas\u001b[39;00m file:\n\u001b[1;32m     46\u001b[0m     performers \u001b[38;5;241m=\u001b[39m [line\u001b[38;5;241m.\u001b[39mstrip() \u001b[38;5;28;01mfor\u001b[39;00m line \u001b[38;5;129;01min\u001b[39;00m file\u001b[38;5;241m.\u001b[39mreadlines() \u001b[38;5;28;01mif\u001b[39;00m line\u001b[38;5;241m.\u001b[39mstrip()]\n\u001b[1;32m     48\u001b[0m \u001b[38;5;66;03m# Iterate over performers\u001b[39;00m\n",
      "File \u001b[0;32m~/anaconda3/lib/python3.11/site-packages/IPython/core/interactiveshell.py:286\u001b[0m, in \u001b[0;36m_modified_open\u001b[0;34m(file, *args, **kwargs)\u001b[0m\n\u001b[1;32m    279\u001b[0m \u001b[38;5;28;01mif\u001b[39;00m file \u001b[38;5;129;01min\u001b[39;00m {\u001b[38;5;241m0\u001b[39m, \u001b[38;5;241m1\u001b[39m, \u001b[38;5;241m2\u001b[39m}:\n\u001b[1;32m    280\u001b[0m     \u001b[38;5;28;01mraise\u001b[39;00m \u001b[38;5;167;01mValueError\u001b[39;00m(\n\u001b[1;32m    281\u001b[0m         \u001b[38;5;124mf\u001b[39m\u001b[38;5;124m\"\u001b[39m\u001b[38;5;124mIPython won\u001b[39m\u001b[38;5;124m'\u001b[39m\u001b[38;5;124mt let you open fd=\u001b[39m\u001b[38;5;132;01m{\u001b[39;00mfile\u001b[38;5;132;01m}\u001b[39;00m\u001b[38;5;124m by default \u001b[39m\u001b[38;5;124m\"\u001b[39m\n\u001b[1;32m    282\u001b[0m         \u001b[38;5;124m\"\u001b[39m\u001b[38;5;124mas it is likely to crash IPython. If you know what you are doing, \u001b[39m\u001b[38;5;124m\"\u001b[39m\n\u001b[1;32m    283\u001b[0m         \u001b[38;5;124m\"\u001b[39m\u001b[38;5;124myou can use builtins\u001b[39m\u001b[38;5;124m'\u001b[39m\u001b[38;5;124m open.\u001b[39m\u001b[38;5;124m\"\u001b[39m\n\u001b[1;32m    284\u001b[0m     )\n\u001b[0;32m--> 286\u001b[0m \u001b[38;5;28;01mreturn\u001b[39;00m io_open(file, \u001b[38;5;241m*\u001b[39margs, \u001b[38;5;241m*\u001b[39m\u001b[38;5;241m*\u001b[39mkwargs)\n",
      "\u001b[0;31mFileNotFoundError\u001b[0m: [Errno 2] No such file or directory: '/Users/alecranjitkar/Desktop/DTU/Master/1Semester/social_graphs-1/Alec-jawa/week4/performers.txt'"
     ]
    }
   ],
   "source": [
    "import os\n",
    "import re\n",
    "import requests\n",
    "from bs4 import BeautifulSoup\n",
    "from time import sleep\n",
    "\n",
    "# Ensure the directory exists\n",
    "output_dir = \"Country-performers\"\n",
    "if not os.path.exists(output_dir):\n",
    "    os.makedirs(output_dir)\n",
    "\n",
    "page_titles = list(set(performer[0] for performer in performers))\n",
    "page_titles = [title.strip().replace(' ', '_') for title in page_titles]\n",
    "\n",
    "# Wikipedia API setup\n",
    "WIKIPEDIA_API_URL = \"https://en.wikipedia.org/w/api.php\"\n",
    "headers = {\n",
    "    'User-Agent': 'YourAppName/1.0 (your_email@example.com)'\n",
    "}\n",
    "\n",
    "# Process each page individually\n",
    "for title in page_titles:\n",
    "    params = {\n",
    "        \"action\": \"parse\",\n",
    "        \"page\": title,\n",
    "        \"prop\": \"text\",\n",
    "        \"format\": \"json\"\n",
    "        # No \"redirects\": 1, to skip redirects\n",
    "    }\n",
    "\n",
    "    try:\n",
    "        response = requests.get(WIKIPEDIA_API_URL, params=params, headers=headers)\n",
    "        response.raise_for_status()\n",
    "        data = response.json()\n",
    "\n",
    "        # Check for errors in the response\n",
    "        if 'error' in data:\n",
    "            error_code = data['error'].get('code', '')\n",
    "            if error_code == 'missingtitle':\n",
    "                print(f\"Page '{title}' is missing. Skipping.\")\n",
    "                continue\n",
    "            elif error_code == 'redirects':\n",
    "                print(f\"Page '{title}' is a redirect. Skipping.\")\n",
    "                continue\n",
    "            else:\n",
    "                print(f\"An error occurred with page '{title}': {data['error'].get('info', '')}\")\n",
    "                continue\n",
    "\n",
    "        if 'parse' in data:\n",
    "            html_content = data['parse']['text']['*']\n",
    "            # Use BeautifulSoup to parse HTML content\n",
    "            soup = BeautifulSoup(html_content, 'html.parser')\n",
    "            text = soup.get_text()\n",
    "\n",
    "            # Save or process the text in the performer_files folder\n",
    "            filename = os.path.join(output_dir, f\"{title}_plain.txt\")\n",
    "            with open(filename, 'w', encoding='utf-8') as f:\n",
    "                f.write(text)\n",
    "            print(f\"Downloaded plain text for {title}\")\n",
    "        else:\n",
    "            print(f\"No content found for page '{title}'. Skipping.\")\n",
    "\n",
    "        # Respectful crawling\n",
    "        sleep(0.5)  # Sleep for half a second between requests\n",
    "    except requests.exceptions.RequestException as e:\n",
    "        print(f\"An error occurred while fetching '{title}': {e}\")\n",
    "    except Exception as e:\n",
    "        print(f\"An unexpected error occurred with '{title}': {e}\")"
   ]
  }
 ],
 "metadata": {
  "kernelspec": {
   "display_name": "base",
   "language": "python",
   "name": "python3"
  },
  "language_info": {
   "codemirror_mode": {
    "name": "ipython",
    "version": 3
   },
   "file_extension": ".py",
   "mimetype": "text/x-python",
   "name": "python",
   "nbconvert_exporter": "python",
   "pygments_lexer": "ipython3",
   "version": "3.11.5"
  }
 },
 "nbformat": 4,
 "nbformat_minor": 2
}
