{
 "cells": [
  {
   "cell_type": "code",
   "execution_count": 5,
   "metadata": {},
   "outputs": [
    {
     "name": "stdout",
     "output_type": "stream",
     "text": [
      "Saved wikitext for Roy Acuff to /Users/alecranjitkar/Desktop/DTU/Master/1Semester/social_graphs-1/Alec-jawa/wiki_country_performers/Roy_Acuff.txt\n",
      "Saved wikitext for Kay Adams (singer) to /Users/alecranjitkar/Desktop/DTU/Master/1Semester/social_graphs-1/Alec-jawa/wiki_country_performers/Kay_Adams_(singer).txt\n",
      "Saved wikitext for Ryan Adams to /Users/alecranjitkar/Desktop/DTU/Master/1Semester/social_graphs-1/Alec-jawa/wiki_country_performers/Ryan_Adams.txt\n",
      "Saved wikitext for Doug Adkins to /Users/alecranjitkar/Desktop/DTU/Master/1Semester/social_graphs-1/Alec-jawa/wiki_country_performers/Doug_Adkins.txt\n",
      "Saved wikitext for Trace Adkins to /Users/alecranjitkar/Desktop/DTU/Master/1Semester/social_graphs-1/Alec-jawa/wiki_country_performers/Trace_Adkins.txt\n",
      "No content found for David Stringbean Akeman\n",
      "Saved wikitext for Rhett Akins to /Users/alecranjitkar/Desktop/DTU/Master/1Semester/social_graphs-1/Alec-jawa/wiki_country_performers/Rhett_Akins.txt\n",
      "Saved wikitext for Alabama (band) to /Users/alecranjitkar/Desktop/DTU/Master/1Semester/social_graphs-1/Alec-jawa/wiki_country_performers/Alabama_(band).txt\n"
     ]
    }
   ],
   "source": [
    "import os\n",
    "import requests\n",
    "\n",
    "# Get the current directory of the script\n",
    "script_directory = os.path.dirname(os.path.abspath(__file__))\n",
    "\n",
    "# Define the relative path for saving files and input file\n",
    "save_directory = os.path.join(script_directory, \"../Country-performers\")\n",
    "performer_file_path = os.path.join(script_directory, \"../data/performers.txt\")\n",
    "\n",
    "# Ensure the save directory exists\n",
    "os.makedirs(save_directory, exist_ok=True)\n",
    "\n",
    "# Define the base URL for Wikipedia API\n",
    "API_URL = \"https://en.wikipedia.org/w/api.php\"\n",
    "\n",
    "# Function to fetch and save wikitext\n",
    "def fetch_and_save_wikitext(title):\n",
    "    title_formatted = title.replace(' ', '_')\n",
    "    params = {\n",
    "        \"action\": \"query\",\n",
    "        \"prop\": \"revisions\",\n",
    "        \"rvprop\": \"content\",\n",
    "        \"format\": \"json\",\n",
    "        \"titles\": title_formatted,\n",
    "    }\n",
    "    \n",
    "    response = requests.get(API_URL, params=params)\n",
    "    data = response.json()\n",
    "\n",
    "    page = next(iter(data['query']['pages'].values()))\n",
    "    if 'revisions' in page:\n",
    "        wikitext = page['revisions'][0]['*']\n",
    "        filename = os.path.join(save_directory, f\"{title_formatted}.txt\")\n",
    "        with open(filename, 'w', encoding='utf-8') as file:\n",
    "            file.write(wikitext)\n",
    "        print(f\"Saved wikitext for {title} to {filename}\")\n",
    "    else:\n",
    "        print(f\"No content found for {title}\")\n",
    "\n",
    "# Read performers from the text file\n",
    "with open(performer_file_path, 'r', encoding='utf-8') as file:\n",
    "    performers = [line.strip() for line in file.readlines() if line.strip()]\n",
    "\n",
    "# Iterate over performers\n",
    "for performer in performers:\n",
    "    fetch_and_save_wikitext(performer)\n"
   ]
  }
 ],
 "metadata": {
  "kernelspec": {
   "display_name": "base",
   "language": "python",
   "name": "python3"
  },
  "language_info": {
   "codemirror_mode": {
    "name": "ipython",
    "version": 3
   },
   "file_extension": ".py",
   "mimetype": "text/x-python",
   "name": "python",
   "nbconvert_exporter": "python",
   "pygments_lexer": "ipython3",
   "version": "3.11.5"
  }
 },
 "nbformat": 4,
 "nbformat_minor": 2
}
