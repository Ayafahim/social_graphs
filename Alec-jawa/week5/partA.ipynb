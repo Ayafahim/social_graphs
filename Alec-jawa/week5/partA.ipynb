{
 "cells": [
  {
   "cell_type": "code",
   "execution_count": 13,
   "metadata": {},
   "outputs": [
    {
     "name": "stdout",
     "output_type": "stream",
     "text": [
      "Number of nodes: 1939\n",
      "Number of edges: 17578\n"
     ]
    }
   ],
   "source": [
    "import os\n",
    "import pickle\n",
    "\n",
    "# Define the relative path from the current working directory\n",
    "relative_folder_path = \"week5/shared\"\n",
    "file_name = \"performer_network.pkl\"\n",
    "\n",
    "# Use the relative path to construct the full path\n",
    "file_path = os.path.join(relative_folder_path, file_name)\n",
    "\n",
    "# Load the graph from the specified file path\n",
    "with open(file_path, 'rb') as f:\n",
    "    G = pickle.load(f)\n",
    "\n",
    "print(f\"Number of nodes: {G.number_of_nodes()}\")\n",
    "print(f\"Number of edges: {G.number_of_edges()}\")\n"
   ]
  }
 ],
 "metadata": {
  "kernelspec": {
   "display_name": "base",
   "language": "python",
   "name": "python3"
  },
  "language_info": {
   "codemirror_mode": {
    "name": "ipython",
    "version": 3
   },
   "file_extension": ".py",
   "mimetype": "text/x-python",
   "name": "python",
   "nbconvert_exporter": "python",
   "pygments_lexer": "ipython3",
   "version": "3.11.5"
  }
 },
 "nbformat": 4,
 "nbformat_minor": 2
}
