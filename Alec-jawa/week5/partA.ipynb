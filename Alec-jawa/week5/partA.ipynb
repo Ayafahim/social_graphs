{
 "cells": [
  {
   "cell_type": "code",
   "execution_count": 3,
   "metadata": {},
   "outputs": [
    {
     "name": "stdout",
     "output_type": "stream",
     "text": [
      "['/Users/alecranjitkar/Desktop/DTU/Master/1Semester/social_graphs-1/Alec-jawa/week5', '/Users/alecranjitkar/anaconda3/lib/python311.zip', '/Users/alecranjitkar/anaconda3/lib/python3.11', '/Users/alecranjitkar/anaconda3/lib/python3.11/lib-dynload', '', '/Users/alecranjitkar/anaconda3/lib/python3.11/site-packages', '/Users/alecranjitkar/anaconda3/lib/python3.11/site-packages/aeosa', '/Users/alecranjitkar/anaconda3/fa2_modified', '/Users/alecranjitkar/anaconda3/fa2_modified/fa2_modified', '/Users/alecranjitkar/anaconda3/fa2_modified/fa2_modified']\n"
     ]
    }
   ],
   "source": [
    "import sys\n",
    "sys.path.append('/Users/alecranjitkar/anaconda3/fa2_modified/fa2_modified')\n",
    "print(sys.path)\n"
   ]
  }
 ],
 "metadata": {
  "kernelspec": {
   "display_name": "base",
   "language": "python",
   "name": "python3"
  },
  "language_info": {
   "codemirror_mode": {
    "name": "ipython",
    "version": 3
   },
   "file_extension": ".py",
   "mimetype": "text/x-python",
   "name": "python",
   "nbconvert_exporter": "python",
   "pygments_lexer": "ipython3",
   "version": "3.11.5"
  }
 },
 "nbformat": 4,
 "nbformat_minor": 2
}
