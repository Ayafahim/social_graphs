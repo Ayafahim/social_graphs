{
 "cells": [
  {
   "cell_type": "code",
   "execution_count": 1,
   "metadata": {},
   "outputs": [],
   "source": [
    "import networkx as nx\n",
    "import random\n",
    "import matplotlib.pyplot as plt\n",
    "import numpy as np\n",
    "\n",
    "# Create an empty graph\n",
    "G = nx.Graph()\n",
    "\n",
    "# Start with 2 nodes connected by a single edge\n",
    "G.add_edge(0, 1)\n"
   ]
  },
  {
   "cell_type": "code",
   "execution_count": 3,
   "metadata": {},
   "outputs": [],
   "source": [
    "def add_node_with_preferential_attachment(G):\n",
    "    # Get a flattened list of nodes where the frequency of each node is proportional to its degree\n",
    "    nodes_by_degree = []\n",
    "    for node in G.nodes():\n",
    "        nodes_by_degree.extend([node] * G.degree(node))\n",
    "    \n",
    "    # Pick a random node to connect the new node to, based on degree\n",
    "    if len(nodes_by_degree) > 0:\n",
    "        new_node = len(G.nodes())\n",
    "        target_node = random.choice(nodes_by_degree)\n",
    "        G.add_edge(new_node, target_node)\n",
    "\n",
    "# Step 3: Add more nodes until we have a 100-node network\n",
    "for _ in range(98):  # We already have 2 nodes\n",
    "    add_node_with_preferential_attachment(G)\n"
   ]
  },
  {
   "cell_type": "code",
   "execution_count": null,
   "metadata": {},
   "outputs": [],
   "source": [
    "# Plot the 100-node BA network\n",
    "plt.figure(figsize=(10, 10))\n",
    "nx.draw(G, with_labels=True, node_size=50, font_size=8)\n",
    "plt.show()\n"
   ]
  },
  {
   "cell_type": "code",
   "execution_count": null,
   "metadata": {},
   "outputs": [],
   "source": [
    "# Continue adding nodes until we have 5000 nodes\n",
    "for _ in range(4900):  # We already have 100 nodes\n",
    "    add_node_with_preferential_attachment(G)\n"
   ]
  },
  {
   "cell_type": "code",
   "execution_count": null,
   "metadata": {},
   "outputs": [],
   "source": [
    "degrees = [G.degree(n) for n in G.nodes()]\n",
    "max_degree = max(degrees)\n",
    "min_degree = min(degrees)\n",
    "\n",
    "print(f\"Maximum degree: {max_degree}\")\n",
    "print(f\"Minimum degree: {min_degree}\")\n"
   ]
  },
  {
   "cell_type": "code",
   "execution_count": null,
   "metadata": {},
   "outputs": [],
   "source": [
    "# Bin the degree distribution\n",
    "hist, bins = np.histogram(degrees, bins=30)\n",
    "\n",
    "# Plot the histogram on linear and log-log scales\n",
    "plt.figure(figsize=(12, 6))\n",
    "\n",
    "# Linear scale plot\n",
    "plt.subplot(121)\n",
    "plt.bar(bins[:-1], hist, width=bins[1] - bins[0], edgecolor='black')\n",
    "plt.xlabel('Degree')\n",
    "plt.ylabel('Frequency')\n",
    "plt.title('Degree Distribution (Linear)')\n",
    "\n",
    "# Log-log scale plot\n",
    "plt.subplot(122)\n",
    "plt.bar(bins[:-1], hist, width=bins[1] - bins[0], edgecolor='black')\n",
    "plt.xscale('log')\n",
    "plt.yscale('log')\n",
    "plt.xlabel('Degree (log scale)')\n",
    "plt.ylabel('Frequency (log scale)')\n",
    "plt.title('Degree Distribution (Log-Log)')\n",
    "\n",
    "plt.tight_layout()\n",
    "plt.show()\n"
   ]
  }
 ],
 "metadata": {
  "kernelspec": {
   "display_name": "base",
   "language": "python",
   "name": "python3"
  },
  "language_info": {
   "codemirror_mode": {
    "name": "ipython",
    "version": 3
   },
   "file_extension": ".py",
   "mimetype": "text/x-python",
   "name": "python",
   "nbconvert_exporter": "python",
   "pygments_lexer": "ipython3",
   "version": "3.11.5"
  }
 },
 "nbformat": 4,
 "nbformat_minor": 2
}
