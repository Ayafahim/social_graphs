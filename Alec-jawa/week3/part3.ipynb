{
 "cells": [
  {
   "cell_type": "markdown",
   "metadata": {},
   "source": [
    "# Exercise 1"
   ]
  },
  {
   "cell_type": "code",
   "execution_count": 20,
   "metadata": {},
   "outputs": [
    {
     "name": "stdout",
     "output_type": "stream",
     "text": [
      "Random Node: 749, Degree: 5\n"
     ]
    }
   ],
   "source": [
    "import random\n",
    "import networkx as nx\n",
    "\n",
    "# Generating the Barabási-Albert network\n",
    "F_BA = nx.barabasi_albert_graph(5000, 2)  \n",
    "\n",
    "# Picking a random node\n",
    "random_node = random.choice(list(F_BA.nodes))\n",
    "\n",
    "# Finding the degree of the node\n",
    "node_degree = F_BA.degree(random_node)\n",
    "\n",
    "print(f\"Random Node: {random_node}, Degree: {node_degree}\")"
   ]
  },
  {
   "cell_type": "code",
   "execution_count": 21,
   "metadata": {},
   "outputs": [
    {
     "name": "stdout",
     "output_type": "stream",
     "text": [
      "Neighbors of Node 749: [1, 25, 2250, 2480, 3220]\n",
      "Degrees of Neighbors: [59, 68, 3, 3, 2]\n"
     ]
    }
   ],
   "source": [
    "# Get the neighbors of the selected node\n",
    "neighbors = list(F_BA.neighbors(random_node))\n",
    "\n",
    "# Calculate the degree of each neighbor\n",
    "neighbors_degrees = [F_BA.degree(neighbor) for neighbor in neighbors]\n",
    "\n",
    "print(f\"Neighbors of Node {random_node}: {neighbors}\")\n",
    "print(f\"Degrees of Neighbors: {neighbors_degrees}\")"
   ]
  },
  {
   "cell_type": "code",
   "execution_count": 22,
   "metadata": {},
   "outputs": [
    {
     "name": "stdout",
     "output_type": "stream",
     "text": [
      "Average Degree of Neighbors: 27.0\n"
     ]
    }
   ],
   "source": [
    "# Calculating the average degree of the neighbors\n",
    "if neighbors:  # To avoid division by zero in case the node has no neighbors\n",
    "    average_degree_neighbors = sum(neighbors_degrees) / len(neighbors_degrees)\n",
    "else:\n",
    "    average_degree_neighbors = 0\n",
    "\n",
    "print(f\"Average Degree of Neighbors: {average_degree_neighbors}\")"
   ]
  },
  {
   "cell_type": "code",
   "execution_count": 23,
   "metadata": {},
   "outputs": [
    {
     "name": "stdout",
     "output_type": "stream",
     "text": [
      "The friendship paradox holds for Node 749:\n",
      "Node Degree: 5, Average Degree of Neighbors: 27.0\n"
     ]
    }
   ],
   "source": [
    "# Check if the friendship paradox holds for the selected node\n",
    "paradox_holds = average_degree_neighbors > node_degree\n",
    "\n",
    "if paradox_holds:\n",
    "    print(f\"The friendship paradox holds for Node {random_node}:\")\n",
    "    print(f\"Node Degree: {node_degree}, Average Degree of Neighbors: {average_degree_neighbors}\")\n",
    "else:\n",
    "    print(f\"The friendship paradox does not hold for Node {random_node}:\")\n",
    "    print(f\"Node Degree: {node_degree}, Average Degree of Neighbors: {average_degree_neighbors}\")"
   ]
  },
  {
   "cell_type": "code",
   "execution_count": 24,
   "metadata": {},
   "outputs": [
    {
     "name": "stdout",
     "output_type": "stream",
     "text": [
      "The Friendship Paradox held in 895 out of 1000 trials.\n"
     ]
    }
   ],
   "source": [
    "# Repeat the process 1000 times to see how often the paradox holds\n",
    "paradox_count = 0\n",
    "num_trials = 1000\n",
    "\n",
    "for _ in range(num_trials):\n",
    "    # Pick a random node\n",
    "    random_node = random.choice(list(F_BA.nodes))\n",
    "    \n",
    "    # Find the degree of the node\n",
    "    node_degree = F_BA.degree(random_node)\n",
    "    \n",
    "    # Get the neighbors and their degrees\n",
    "    neighbors = list(F_BA.neighbors(random_node))\n",
    "    neighbors_degrees = [F_BA.degree(neighbor) for neighbor in neighbors]\n",
    "    \n",
    "    # Calculate the average degree of the neighbors\n",
    "    if neighbors:\n",
    "        average_degree_neighbors = sum(neighbors_degrees) / len(neighbors_degrees)\n",
    "    else:\n",
    "        average_degree_neighbors = 0\n",
    "    \n",
    "    # Check if the paradox holds\n",
    "    if average_degree_neighbors > node_degree:\n",
    "        paradox_count += 1\n",
    "\n",
    "print(f\"The Friendship Paradox held in {paradox_count} out of {num_trials} trials.\")"
   ]
  },
  {
   "cell_type": "markdown",
   "metadata": {},
   "source": [
    "# Exercise 2: What if the power law is flatter, e.g. p(k)∼k−γ with γ=2? Will the fraction of times the paradox is true be higher or lower?\n",
    "The power law degree distribution, \n",
    "𝑝(𝑘)∼𝑘^−𝛾, determines how the degrees of nodes (i.e., the number of connections they have) are distributed across the network. In the original Barabási-Albert (BA) model, 𝛾 typically takes values around 2.5 to 3, which leads to a highly skewed distribution where most nodes have very few connections, and a few nodes (hubs) have many connections.\n",
    "\n",
    "When γ=2, the power law becomes flatter. This means that the difference between low-degree and high-degree nodes is reduced compared to a steeper power law. As a result:\n",
    "\n",
    "- There will be more nodes with higher degrees than in a network with a steeper slope.\n",
    "\n",
    "- The extreme hubs (very high-degree nodes) will be less prominent, and the average node will be connected to more moderately well-connected nodes rather than hubs."
   ]
  },
  {
   "cell_type": "markdown",
   "metadata": {},
   "source": []
  },
  {
   "cell_type": "markdown",
   "metadata": {},
   "source": [
    "# Think about what it would mean in terms of hubs that the power law is flatter?\n",
    "- The friendship paradox occurs because people are more likely to be friends with high-degree nodes (hubs), which drives up the average degree of their friends.\n",
    "\n",
    "- In a flatter distribution, there are fewer extreme hubs, so the average degree of friends will be more moderate. As a result, it is less likely that a node’s neighbors (friends) will have dramatically more connections than the node itself.\n",
    "\n",
    "- Therefore, the fraction of times the friendship paradox is true will likely decrease in a network with a flatter power law (γ = 2)."
   ]
  },
  {
   "cell_type": "code",
   "execution_count": 25,
   "metadata": {},
   "outputs": [
    {
     "name": "stdout",
     "output_type": "stream",
     "text": [
      "Fraction of times the friendship paradox is true in the configuration model with γ = 2: 0.9960\n"
     ]
    }
   ],
   "source": [
    "import numpy as np\n",
    "import networkx as nx\n",
    "import random\n",
    "\n",
    "# Step 1: Generate a power-law degree sequence with γ = 2\n",
    "def generate_powerlaw_sequence(n, gamma, xmin):\n",
    "    r = np.random.uniform(0, 1, size=n)\n",
    "    degree_sequence = np.floor(xmin * (1 - r) ** (-1 / (gamma - 1))).astype(int)\n",
    "    \n",
    "    # Ensure the sum of degrees is even\n",
    "    if sum(degree_sequence) % 2 != 0:\n",
    "        degree_sequence[0] += 1\n",
    "    \n",
    "    return degree_sequence\n",
    "\n",
    "# Parameters\n",
    "n = 5000  # number of nodes\n",
    "gamma = 2  # exponent of the power law\n",
    "xmin = 3   # minimum degree\n",
    "\n",
    "degree_sequence = generate_powerlaw_sequence(n, gamma, xmin)\n",
    "\n",
    "# Step 2: Construct the network using the configuration model\n",
    "F_config = nx.configuration_model(degree_sequence)\n",
    "\n",
    "# Step 3: Test the friendship paradox over 1000 random samples\n",
    "def test_friendship_paradox(graph, num_samples=1000):\n",
    "    paradox_true_count = 0\n",
    "    \n",
    "    for _ in range(num_samples):\n",
    "        # Pick a random node\n",
    "        node = random.choice(list(graph.nodes))\n",
    "        \n",
    "        # Find its degree\n",
    "        degree_i = len(list(graph.neighbors(node)))\n",
    "        \n",
    "        if degree_i == 0:  # If the node has no neighbors, skip this iteration\n",
    "            continue\n",
    "        \n",
    "        # Find the degrees of the neighbors\n",
    "        neighbor_degrees = [len(list(graph.neighbors(neighbor))) for neighbor in graph.neighbors(node)]\n",
    "        \n",
    "        # Calculate the average degree of the neighbors\n",
    "        avg_neighbor_degree = np.mean(neighbor_degrees)\n",
    "        \n",
    "        # Check if the friendship paradox holds\n",
    "        if avg_neighbor_degree > degree_i:\n",
    "            paradox_true_count += 1\n",
    "    \n",
    "    # Calculate the fraction of times the friendship paradox is true\n",
    "    fraction_true = paradox_true_count / num_samples\n",
    "    return fraction_true\n",
    "\n",
    "# Step 4: Run the test and print the result\n",
    "fraction_true = test_friendship_paradox(F_config)\n",
    "print(f\"Fraction of times the friendship paradox is true in the configuration model with γ = 2: {fraction_true:.4f}\")\n"
   ]
  },
  {
   "cell_type": "markdown",
   "metadata": {},
   "source": [
    "After running this simulation, we can compare the result with our earlier reasoning. If the fraction of times the friendship paradox holds in this network (with \n",
    "𝛾\n",
    "=\n",
    "2\n",
    "γ=2) is lower than in the original BA network, then our reasoning that a flatter power law reduces the occurrence of the friendship paradox is confirmed."
   ]
  },
  {
   "cell_type": "markdown",
   "metadata": {},
   "source": [
    "# For what fraction of the time is the friendship paradox true for your network with a new slope?\n",
    "After running this simulation, we can compare the result with our earlier reasoning. If the fraction of times the friendship paradox holds in this network (with γ=2) is lower than in the original BA network, then our reasoning that a flatter power law reduces the occurrence of the friendship paradox is confirmed."
   ]
  },
  {
   "cell_type": "markdown",
   "metadata": {},
   "source": [
    "# Exercise 3"
   ]
  },
  {
   "cell_type": "code",
   "execution_count": 26,
   "metadata": {},
   "outputs": [],
   "source": [
    "# Get the degree sequence from the F-BA network\n",
    "degree_sequence = [degree for _, degree in F_BA.degree()]\n",
    "\n",
    "# Ensure the degree sequence sum is even\n",
    "if sum(degree_sequence) % 2 != 0:\n",
    "    degree_sequence[0] += 1  # Adjust one degree to make the sum even\n",
    "\n",
    "# Generate the configuration model (F-CM)\n",
    "F_CM = nx.configuration_model(degree_sequence)"
   ]
  },
  {
   "cell_type": "code",
   "execution_count": 27,
   "metadata": {},
   "outputs": [
    {
     "name": "stdout",
     "output_type": "stream",
     "text": [
      "Fraction of times the friendship paradox is true in F-CM: 0.8440\n"
     ]
    }
   ],
   "source": [
    "import random\n",
    "\n",
    "def test_friendship_paradox(G, trials=1000):\n",
    "    paradox_true_count = 0\n",
    "\n",
    "    for _ in range(trials):\n",
    "        # Pick a random node\n",
    "        node = random.choice(list(G.nodes()))\n",
    "\n",
    "        # Get the degree of the selected node\n",
    "        node_degree = G.degree(node)\n",
    "\n",
    "        # Get neighbors and their average degree\n",
    "        neighbors = list(G.neighbors(node))\n",
    "        if neighbors:  # If the node has neighbors\n",
    "            avg_neighbor_degree = sum(G.degree(n) for n in neighbors) / len(neighbors)\n",
    "\n",
    "            # Check if the friendship paradox holds\n",
    "            if avg_neighbor_degree > node_degree:\n",
    "                paradox_true_count += 1\n",
    "\n",
    "    # Return the fraction of times the paradox is true\n",
    "    return paradox_true_count / trials\n",
    "\n",
    "# Test friendship paradox for F-CM\n",
    "paradox_fraction_F_CM = test_friendship_paradox(F_CM)\n",
    "print(f\"Fraction of times the friendship paradox is true in F-CM: {paradox_fraction_F_CM:.4f}\")\n"
   ]
  },
  {
   "cell_type": "markdown",
   "metadata": {},
   "source": [
    "# 1.Are there factors beyond the degree-distribution that could impact how frequently the friendship paradox is true? I might consider how network properties like assortativity, clustering, community-structure, etc potentially could impact things (it's OK to search online and add references to your answer).\n",
    "\n",
    "Are there factors beyond the degree-distribution that could impact how frequently the friendship paradox is true?\n",
    "\n",
    "- **Network assortativity:** Assortativity refers to the tendency of nodes to connect with similar degree nodes. In networks with high assortativity, high-degree nodes tend to connect with other high-degree nodes. In contrast, networks with disassortativity have high-degree nodes connecting more often with low-degree nodes. This can impact the friendship paradox because the average degree of a node's neighbors may vary significantly depending on assortativity.\n",
    "\n",
    "- **Clustering:** Clustering refers to the degree to which nodes cluster together in triangles. Networks with high clustering tend to have groups of nodes that are highly interconnected. In a high-clustering network, a node's neighbors may be connected to each other, which could result in lower average neighbor degrees, potentially reducing the frequency of the friendship paradox.\n",
    "\n",
    "- **Community structure:** Networks often have a modular structure where nodes form tightly connected communities. If a node's neighbors are all part of a small community, their degrees may be more similar to each other, affecting the likelihood of observing the friendship paradox.\n",
    "\n",
    "In the Barabási-Albert model (F-BA), the degree distribution is skewed, but it also has low clustering and low assortativity. The configuration model (F-CM) will preserve the degree distribution but may have random clustering and random assortativity, which could lead to different results for the friendship paradox."
   ]
  },
  {
   "cell_type": "markdown",
   "metadata": {},
   "source": [
    "# 2.How would you test more rigorously if the friendship-paradox is actually true equally often in F-BA and F-CM?\n",
    "\n",
    "- **Statistical tests:** To rigorously compare the frequency of the friendship paradox in F-BA and F-CM, we could run a statistical test such as a chi-squared test or t-test to determine if the differences in the frequency of the paradox are statistically significant. This would involve running the friendship paradox test multiple times for both F-BA and F-CM and then comparing the distributions of the results.\n",
    "\n",
    "- **Bootstrap resampling:** We could use bootstrap resampling to estimate confidence intervals for the frequency of the paradox in both F-BA and F-CM. By resampling from the results and calculating the fraction of times the paradox holds, we could generate error bars and more confidently state whether the results are different.\n",
    "\n",
    "- **Permutation test:** A permutation test could be applied to the results of F-BA and F-CM. This non-parametric test would shuffle the labels between the two networks and test how often we observe the same or greater difference in the frequency of the paradox compared to the observed difference."
   ]
  },
  {
   "cell_type": "markdown",
   "metadata": {},
   "source": [
    "# Exercise 4"
   ]
  },
  {
   "cell_type": "code",
   "execution_count": 30,
   "metadata": {},
   "outputs": [],
   "source": [
    "import networkx as nx\n",
    "import random\n",
    "\n",
    "def create_sune_network(n, m):\n",
    "    # Start with a small, fully connected graph of m+1 nodes\n",
    "    G = nx.complete_graph(m + 1)\n",
    "\n",
    "    # Add new nodes, each connecting to m existing nodes randomly (no preferential attachment)\n",
    "    for new_node in range(m + 1, n):\n",
    "        # Convert nodes to a list to avoid the TypeError\n",
    "        existing_nodes = random.sample(list(G.nodes()), m)\n",
    "        # Add new node and connect it to the randomly chosen existing nodes\n",
    "        G.add_node(new_node)\n",
    "        G.add_edges_from([(new_node, node) for node in existing_nodes])\n",
    "\n",
    "    return G\n",
    "\n",
    "# Create the Sune-Network with 5000 nodes and 3 edges per new node (same as F-BA)\n",
    "Sune_network = create_sune_network(5000, 3)\n"
   ]
  },
  {
   "cell_type": "code",
   "execution_count": 31,
   "metadata": {},
   "outputs": [],
   "source": [
    "# Number of nodes and edges in Sune-Network\n",
    "n = Sune_network.number_of_nodes()\n",
    "m = Sune_network.number_of_edges()\n",
    "\n",
    "# Create an ER network with the same number of nodes and edges\n",
    "ER_network = nx.gnm_random_graph(n, m)"
   ]
  },
  {
   "cell_type": "code",
   "execution_count": 32,
   "metadata": {},
   "outputs": [
    {
     "data": {
      "image/png": "[encoded data removed]",
      "text/plain": [
       "<Figure size 640x480 with 1 Axes>"
      ]
     },
     "metadata": {},
     "output_type": "display_data"
    }
   ],
   "source": [
    "import matplotlib.pyplot as plt\n",
    "\n",
    "# Get degree sequences for both networks\n",
    "sune_degrees = [d for _, d in Sune_network.degree()]\n",
    "er_degrees = [d for _, d in ER_network.degree()]\n",
    "\n",
    "# Plot the degree distributions\n",
    "plt.hist(sune_degrees, bins=30, alpha=0.5, label='Sune-Network')\n",
    "plt.hist(er_degrees, bins=30, alpha=0.5, label='ER Network')\n",
    "plt.xlabel('Degree')\n",
    "plt.ylabel('Frequency')\n",
    "plt.title('Degree Distribution of Sune-Network vs ER Network')\n",
    "plt.legend()\n",
    "plt.show()\n"
   ]
  },
  {
   "cell_type": "code",
   "execution_count": 33,
   "metadata": {},
   "outputs": [
    {
     "name": "stdout",
     "output_type": "stream",
     "text": [
      "Number of connected components in Sune-Network: 1\n",
      "Number of connected components in ER Network: 15\n"
     ]
    }
   ],
   "source": [
    "# Number of connected components in each network\n",
    "sune_components = nx.number_connected_components(Sune_network)\n",
    "er_components = nx.number_connected_components(ER_network)\n",
    "\n",
    "print(f\"Number of connected components in Sune-Network: {sune_components}\")\n",
    "print(f\"Number of connected components in ER Network: {er_components}\")\n"
   ]
  },
  {
   "cell_type": "markdown",
   "metadata": {},
   "source": [
    "# What are the differences between the ER network and the Sune-network?\n",
    "\n",
    "**- Structure:** The Sune-Network grows by adding nodes over time, resulting in a more diverse structure with some nodes having more connections than others. The ER Network, on the other hand, is created by randomly connecting nodes in one step, which leads to a more uniform structure.\n",
    "\n",
    "**- Degree Distribution:** The degree distribution in the Sune-Network is broader, with some nodes having more connections, while the ER network tends to have a narrower distribution with most nodes having degrees around the average."
   ]
  }
 ],
 "metadata": {
  "kernelspec": {
   "display_name": "base",
   "language": "python",
   "name": "python3"
  },
  "language_info": {
   "codemirror_mode": {
    "name": "ipython",
    "version": 3
   },
   "file_extension": ".py",
   "mimetype": "text/x-python",
   "name": "python",
   "nbconvert_exporter": "python",
   "pygments_lexer": "ipython3",
   "version": "3.11.5"
  }
 },
 "nbformat": 4,
 "nbformat_minor": 2
}
