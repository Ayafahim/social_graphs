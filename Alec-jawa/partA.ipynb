{
 "cells": [
  {
   "cell_type": "code",
   "execution_count": 5,
   "metadata": {},
   "outputs": [
    {
     "name": "stdout",
     "output_type": "stream",
     "text": [
      "Fetching content for: The_Abrams_Brothers\n",
      "Saved wikitext for The_Abrams_Brothers to wiki_country_performers/The_Abrams_Brothers.txt\n",
      "Fetching content for: Ace_in_the_Hole_Band\n",
      "Saved wikitext for Ace_in_the_Hole_Band to wiki_country_performers/Ace_in_the_Hole_Band.txt\n",
      "Fetching content for: Roy_Acuff\n",
      "Saved wikitext for Roy_Acuff to wiki_country_performers/Roy_Acuff.txt\n",
      "Fetching content for: Kay_Adams_(singer)\n",
      "Saved wikitext for Kay_Adams_(singer) to wiki_country_performers/Kay_Adams_(singer).txt\n",
      "Completed fetching all wikitext.\n"
     ]
    }
   ],
   "source": [
    "import requests\n",
    "import os\n",
    "\n",
    "# Create a directory to save the wikitext files\n",
    "output_dir = \"wiki_country_performers\"\n",
    "if not os.path.exists(output_dir):\n",
    "    os.makedirs(output_dir)\n",
    "\n",
    "# List of Wikipedia pages (titles)\n",
    "wiki_pages = [\n",
    "    \"The_Abrams_Brothers\",\n",
    "    \"Ace_in_the_Hole_Band\",\n",
    "    \"Roy_Acuff\",\n",
    "    \"Kay_Adams_(singer)\",\n",
    "    # Add more as needed...\n",
    "]\n",
    "\n",
    "# Base URL for the Wikipedia API\n",
    "base_url = \"https://en.wikipedia.org/w/api.php\"\n",
    "\n",
    "# Function to fetch wikitext for a given page\n",
    "def fetch_wikitext(page_title):\n",
    "    params = {\n",
    "        \"action\": \"query\",\n",
    "        \"prop\": \"revisions\",\n",
    "        \"rvprop\": \"content\",\n",
    "        \"format\": \"json\",\n",
    "        \"titles\": page_title,\n",
    "        \"formatversion\": \"2\",  # This gives a cleaner version of the response\n",
    "        \"rvslots\": \"*\",  # Needed to get the main content (relevant for newer versions of MediaWiki)\n",
    "    }\n",
    "\n",
    "    # Make the request to the Wikipedia API\n",
    "    response = requests.get(base_url, params=params)\n",
    "    data = response.json()\n",
    "\n",
    "    # Extract the wikitext from the response\n",
    "    page_data = data.get(\"query\", {}).get(\"pages\", [{}])[0]  # Get the first page data\n",
    "    if 'revisions' in page_data:\n",
    "        wikitext = page_data['revisions'][0]['slots']['main']['content']\n",
    "        return wikitext\n",
    "    else:\n",
    "        return None\n",
    "\n",
    "# Loop through each page to fetch and save content\n",
    "for page in wiki_pages:\n",
    "    print(f\"Fetching content for: {page}\")\n",
    "    \n",
    "    # Fetch wikitext\n",
    "    wikitext = fetch_wikitext(page)\n",
    "    \n",
    "    if wikitext:\n",
    "        # Save wikitext to a file\n",
    "        output_path = os.path.join(output_dir, f\"{page}.txt\")\n",
    "        with open(output_path, 'w', encoding='utf-8') as f:\n",
    "            f.write(wikitext)\n",
    "        print(f\"Saved wikitext for {page} to {output_path}\")\n",
    "    else:\n",
    "        print(f\"Failed to fetch wikitext for {page}\")\n",
    "\n",
    "print(\"Completed fetching all wikitext.\")\n"
   ]
  }
 ],
 "metadata": {
  "kernelspec": {
   "display_name": "base",
   "language": "python",
   "name": "python3"
  },
  "language_info": {
   "codemirror_mode": {
    "name": "ipython",
    "version": 3
   },
   "file_extension": ".py",
   "mimetype": "text/x-python",
   "name": "python",
   "nbconvert_exporter": "python",
   "pygments_lexer": "ipython3",
   "version": "3.11.5"
  }
 },
 "nbformat": 4,
 "nbformat_minor": 2
}
